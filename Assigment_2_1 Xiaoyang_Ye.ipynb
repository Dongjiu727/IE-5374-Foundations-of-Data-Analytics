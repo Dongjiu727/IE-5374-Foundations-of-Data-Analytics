{
  "nbformat": 4,
  "nbformat_minor": 0,
  "metadata": {
    "colab": {
      "provenance": [],
      "collapsed_sections": []
    },
    "kernelspec": {
      "name": "python3",
      "display_name": "Python 3"
    },
    "language_info": {
      "name": "python"
    }
  },
  "cells": [
    {
      "cell_type": "code",
      "execution_count": 3,
      "metadata": {
        "colab": {
          "base_uri": "https://localhost:8080/",
          "height": 684
        },
        "id": "xkjJdcaYD-F-",
        "outputId": "79173a53-1747-4424-eab6-45d0820c2822"
      },
      "outputs": [
        {
          "output_type": "stream",
          "name": "stdout",
          "text": [
            "a.The mean of the scores are 89.36666666666666\n",
            "  The median of the scores are 95.5\n",
            "  The standard deviation of the scores are 13.651577035476729\n",
            "b. Box plot\n"
          ]
        },
        {
          "output_type": "display_data",
          "data": {
            "text/plain": [
              "<Figure size 432x288 with 1 Axes>"
            ],
            "image/png": "[encoded data removed]"
          },
          "metadata": {
            "needs_background": "light"
          }
        },
        {
          "output_type": "stream",
          "name": "stdout",
          "text": [
            "c. Histogram\n"
          ]
        },
        {
          "output_type": "display_data",
          "data": {
            "text/plain": [
              "<Figure size 432x288 with 1 Axes>"
            ],
            "image/png": "[encoded data removed]"
          },
          "metadata": {
            "needs_background": "light"
          }
        },
        {
          "output_type": "stream",
          "name": "stdout",
          "text": [
            "d. Sample mean here is not a good representation of the test score dataset. The mean of the test scores is 89.37 while the median is 95.5.\n",
            " From both the box plot and the histogram, the distribution of this dataset is negative skewness or is skewed to the left. \n",
            " The mean is less than the median (which is often less than the mode), but the mean reflects the skewing more so. \n",
            " Some smaller test scores (left) make the mean down while the median is more representative of what scores that most of the students have. \n",
            " In the skewed distribution dataset, the median is more suitable to represent the central tendency of a dataset.\n"
          ]
        }
      ],
      "source": [
        "# Problem 1\n",
        "import pandas as pd\n",
        "import numpy as np\n",
        "import seaborn as sns\n",
        "import matplotlib.pyplot as plt\n",
        "score_array = np.array([99, 95, 72, 100, 99, 64, 94, 92, 97, 100, 82, 98, 50, 99, 97, 91, 94, 86, 98, 97, 95, 100, 71, 96, 96, 100, 54, 98, 88, 79])\n",
        "# a. Compute the mean, median and STDEV\n",
        "print(f\"a.The mean of the scores are {np.mean(score_array)}\")\n",
        "print(f\"  The median of the scores are {np.median(score_array)}\")\n",
        "print(f\"  The standard deviation of the scores are {np.std(score_array)}\")\n",
        "\n",
        "# b.Construct a box plot \n",
        "# b-1 Make a data frame with \"Student\" and \"Score\"\n",
        "test_score = {\"Student\": np.arange(1,31),\n",
        "               \"Score\": score_array}\n",
        "# b-2 Make a box plot and make the y axis as \"Score\"\n",
        "df_test_score = pd.DataFrame(test_score)\n",
        "sns.boxplot(data = df_test_score, y='Score')\n",
        "print(\"b. Box plot\")\n",
        "plt.show()\n",
        "\n",
        "# c.Construct a histogram\n",
        "sns.histplot(df_test_score, x='Score')\n",
        "print(\"c. Histogram\")\n",
        "plt.show()\n",
        "\n",
        "# d\n",
        "print(\"d. Sample mean here is not a good representation of the test score dataset. The mean of the test scores is 89.37 while the median is 95.5.\\n From both the box plot and the histogram, the distribution of this dataset is negative skewness or is skewed to the left. \\n The mean is less than the median (which is often less than the mode), but the mean reflects the skewing more so. \\n Some smaller test scores (left) make the mean down while the median is more representative of what scores that most of the students have. \\n In the skewed distribution dataset, the median is more suitable to represent the central tendency of a dataset.\")"
      ]
    },
    {
      "cell_type": "code",
      "source": [
        "import math\n",
        "import numpy as np\n",
        "# Factorial calculation only. Please find the solution/answer in the PDF \"Assigment_2_2 Xiaoyang_Ye\"\n",
        "\n",
        "# Problem 2_calculation\n",
        "p2 = math.factorial(15)/math.factorial(10)\n",
        "print(p2)\n",
        "\n",
        "# Problem 3_calculation\n",
        "p3 = math.factorial(100)/(math.factorial(20)* math.factorial(80))\n",
        "print(p3)\n",
        "\n",
        "# Problem 5-a_calculation\n",
        "p5_a = 4 * ((math.factorial(5)* math.factorial(47))/math.factorial(52))\n",
        "print(p5_a)\n",
        "\n",
        "# Problem 5-b_calculation\n",
        "p5_b_1 = 4 * (math.factorial(10)/(math.factorial(4)* math.factorial(6)))\n",
        "p5_b_2 = math.factorial(52)/(math.factorial(5)* math.factorial(47))\n",
        "p5_b = p5_b_1 / p5_b_2\n",
        "print(p5_b)\n",
        "\n",
        "# Problem 5-c_calculation\n",
        "p5_c_1 = 6 * (math.factorial(50)/(math.factorial(3)* math.factorial(50-3)))\n",
        "p5_c_2 = math.factorial(52)/(math.factorial(5)* math.factorial(52-5))\n",
        "p5_c = p5_c_1 / p5_c_2\n",
        "print(p5_c)"
      ],
      "metadata": {
        "colab": {
          "base_uri": "https://localhost:8080/"
        },
        "id": "4Xt_5s-xw2SO",
        "outputId": "c69b6c03-8da9-4250-9be2-b650a2792323"
      },
      "execution_count": 4,
      "outputs": [
        {
          "output_type": "stream",
          "name": "stdout",
          "text": [
            "360360.0\n",
            "5.3598337040380966e+20\n",
            "1.5390771693292702e-06\n",
            "0.0003232062055591467\n",
            "0.04524886877828054\n"
          ]
        }
      ]
    }
  ]
}